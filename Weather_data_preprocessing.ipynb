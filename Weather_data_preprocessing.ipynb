{
  "nbformat": 4,
  "nbformat_minor": 0,
  "metadata": {
    "colab": {
      "provenance": [],
      "collapsed_sections": []
    },
    "kernelspec": {
      "name": "python3",
      "display_name": "Python 3"
    },
    "language_info": {
      "name": "python"
    }
  },
  "cells": [
    {
      "cell_type": "code",
      "execution_count": null,
      "metadata": {
        "id": "ItiRHp8SYDue"
      },
      "outputs": [],
      "source": [
        "pip install Pandas"
      ]
    },
    {
      "cell_type": "code",
      "source": [
        "pip install xlsxwriter"
      ],
      "metadata": {
        "id": "Y6anDUQTk2X6"
      },
      "execution_count": null,
      "outputs": []
    },
    {
      "cell_type": "code",
      "source": [
        "pip install tqdm"
      ],
      "metadata": {
        "id": "iDc4BODMk-RW"
      },
      "execution_count": null,
      "outputs": []
    },
    {
      "cell_type": "code",
      "source": [
        "import pandas as pd\n",
        "import xlsxwriter\n",
        "from tqdm import tqdm\n",
        "import numpy as np\n",
        "import openpyxl\n",
        "import statistics as stats\n",
        "from os.path import exists\n",
        "from pathlib import Path"
      ],
      "metadata": {
        "id": "TWEnQCjFYte7"
      },
      "execution_count": null,
      "outputs": []
    },
    {
      "cell_type": "code",
      "source": [
        "Num_stations = 273 #int(input(\"Enter the number of the stations: \"))"
      ],
      "metadata": {
        "id": "KT6I1Bjh0XpX"
      },
      "execution_count": null,
      "outputs": []
    },
    {
      "cell_type": "code",
      "source": [
        "for ind_sta in tqdm(range(1, Num_stations + 1), desc = 'Stations: '):\n",
        "  #Check the text file with the staation ID whether or not exists\n",
        "  file_exists = exists('/content/'+ str(ind_sta) +'.txt')\n",
        "\n",
        "  if file_exists:\n",
        "    df = pd.read_csv('/content/'+ str(ind_sta) +'.txt')\n",
        "    df.to_excel('Station_' + str(ind_sta) + '.xlsx',  'Sheet1', index= False)"
      ],
      "metadata": {
        "id": "LFmkV1iLYbAL",
        "colab": {
          "base_uri": "https://localhost:8080/"
        },
        "outputId": "ff8d3bc8-00e8-46f3-c7cf-12930125610f"
      },
      "execution_count": null,
      "outputs": [
        {
          "output_type": "stream",
          "name": "stderr",
          "text": [
            "Stations: 100%|██████████| 273/273 [00:04<00:00, 59.91it/s]\n"
          ]
        }
      ]
    },
    {
      "cell_type": "code",
      "source": [
        "for ij in tqdm(range(1, Num_stations + 1), desc = ''):\n",
        "  file_exists = exists('/content/Station_' + str(ij) + '.xlsx')\n",
        "\n",
        "  if file_exists:\n",
        "    df = pd.read_excel('/content/Station_' + str(ij) + '.xlsx')\n",
        "    df.dropna(axis=1, how='any', inplace=True)\n",
        "    df.dropna(axis=0, how='any', inplace=True)\n",
        "    df.to_excel('Station_after_modification_' + str(ij) + '.xlsx',  'Sheet1', index= False)"
      ],
      "metadata": {
        "colab": {
          "base_uri": "https://localhost:8080/"
        },
        "id": "54CPiMcWZPvJ",
        "outputId": "fcf3638d-85c8-42c5-9885-2614fc85e3e5"
      },
      "execution_count": null,
      "outputs": [
        {
          "output_type": "stream",
          "name": "stderr",
          "text": [
            "100%|██████████| 273/273 [00:08<00:00, 30.93it/s]\n"
          ]
        }
      ]
    },
    {
      "cell_type": "code",
      "source": [
        "# Months with 31 days: Jan, Mar, May, Jul, Aug, Oct\n",
        "# Months with 30 days: Apr, Jun, Sep, Nov\n",
        "# The only month with 28 days: Feb\n",
        "\n",
        "Mnth = input(\"Type three letters of the considered month: \")"
      ],
      "metadata": {
        "colab": {
          "base_uri": "https://localhost:8080/"
        },
        "id": "vtsJrxprhfxm",
        "outputId": "aac10339-5034-4e36-b3c6-e6a31705fdbf"
      },
      "execution_count": null,
      "outputs": [
        {
          "name": "stdout",
          "output_type": "stream",
          "text": [
            "Type three letters of the considered month: Apr\n"
          ]
        }
      ]
    },
    {
      "cell_type": "code",
      "source": [
        "if Mnth == (\"Jan\" or \"Mar\" or \"May\" or \"Jul\" or \"Aug\" or \"Oct\"):\n",
        "  number_of_days = 31\n",
        "elif Mnth == (\"Apr\" or \"Jun\" or \"Sep\" or \"Nov\"):\n",
        "  number_of_days = 30\n",
        "else:\n",
        "  number_of_days = 28\n",
        "\n",
        "print(\"The number of days in the chosen month is: \", number_of_days)"
      ],
      "metadata": {
        "colab": {
          "base_uri": "https://localhost:8080/"
        },
        "id": "t6AF1p4jpIoo",
        "outputId": "0be7d223-db43-4590-b5be-5ae84f8c1a8c"
      },
      "execution_count": null,
      "outputs": [
        {
          "output_type": "stream",
          "name": "stdout",
          "text": [
            "The number of days in the chosen month is:  30\n"
          ]
        }
      ]
    },
    {
      "cell_type": "code",
      "source": [
        "workbook_prec = xlsxwriter.Workbook(\"Daily_precipitation.xlsx\")\n",
        "worksheet_prec = workbook_prec.add_worksheet(\"Precipitation\")\n",
        "\n",
        "Lett_arr = np.array(('A','B','C','D','E','F','G','H','I','J','K','L','M','N','O','P','Q','R','S','T','U','V','W','X','Y','Z','AA','AB','AC','AD','AE','AF','AG'))\n",
        "\n",
        "worksheet_prec.write('A1', 'Station')\n",
        "worksheet_prec.write('B1', 'Station_ID')\n",
        "\n",
        "for ind in range(1,number_of_days + 1):\n",
        "  worksheet_prec.write(Lett_arr[ind+1] + '1', 'day_' + str(ind))\n",
        "\n",
        "row_index = 2\n",
        "\n",
        "for jj in tqdm(range(1,number_of_days + 1), desc='Day: '):\n",
        "\n",
        "  for indx_S in range(1, Num_stations + 1):\n",
        "    #Check the text file with the staation ID whether or not exists\n",
        "    path = Path('/content/Station_after_modification_'+ str(indx_S) +'.xlsx')\n",
        "    \n",
        "    if path.is_file():\n",
        "      wb = openpyxl.load_workbook('/content/Station_after_modification_'+ str(indx_S) +'.xlsx')\n",
        "      sh = wb.active\n",
        "\n",
        "      cell_sta_name = sh['A2']\n",
        "      Sta_name = cell_sta_name.value\n",
        "      worksheet_prec.write('A' + str(indx_S + 1), Sta_name)\n",
        "\n",
        "      worksheet_prec.write('B' + str(indx_S + 1), indx_S)\n",
        "\n",
        "      cell = sh['D'+str(row_index)]\n",
        "      Prec = cell.value\n",
        "      worksheet_prec.write(Lett_arr[jj+1] + str(indx_S + 1), Prec)\n",
        "    else:\n",
        "      continue\n",
        "     \n",
        "  row_index += 1\n",
        "\n",
        "workbook_prec.close()"
      ],
      "metadata": {
        "id": "pMG0qZGRZwBu",
        "colab": {
          "base_uri": "https://localhost:8080/"
        },
        "outputId": "b75d3076-657b-4f97-cff2-3ddd616b8012"
      },
      "execution_count": null,
      "outputs": [
        {
          "output_type": "stream",
          "name": "stderr",
          "text": [
            "Day: 100%|██████████| 30/30 [01:16<00:00,  2.56s/it]\n"
          ]
        }
      ]
    },
    {
      "cell_type": "code",
      "source": [
        "df = pd.read_excel('/content/Daily_precipitation.xlsx')\n",
        "df.dropna(axis = 0, inplace = True)\n",
        "df.to_excel('Daily_precipitation_after_removing_null_stations.xlsx',  'Sheet1', index= False)"
      ],
      "metadata": {
        "id": "JDl9k3rfQDUV"
      },
      "execution_count": null,
      "outputs": []
    },
    {
      "cell_type": "code",
      "source": [
        "workbook_temp = xlsxwriter.Workbook(\"Daily_Average_Temperature.xlsx\")\n",
        "worksheet_temp = workbook_temp.add_worksheet(\"Temperature\")\n",
        "\n",
        "Lett_arr = np.array(('A','B','C','D','E','F','G','H','I','J','K','L','M','N','O','P','Q','R','S','T','U','V','W','X','Y','Z','AA','AB','AC','AD','AE','AF','AG'))\n",
        "\n",
        "worksheet_temp.write('A1', 'Station')\n",
        "worksheet_temp.write('B1', 'Station_ID')\n",
        "\n",
        "for ind in range(1,number_of_days + 1):\n",
        "  worksheet_temp.write(Lett_arr[ind+1] + '1', 'day_' + str(ind))\n",
        "\n",
        "row_index = 2\n",
        "\n",
        "for jj in tqdm(range(1,number_of_days + 1), desc='Days: '):\n",
        "\n",
        "  for indx_S in range(1, Num_stations + 1):\n",
        "    #Check the text file with the staation ID whether or not exists\n",
        "    path = Path('/content/Station_after_modification_'+ str(indx_S) +'.xlsx')\n",
        "    \n",
        "    if path.is_file():\n",
        "      wb = openpyxl.load_workbook('/content/Station_after_modification_'+ str(indx_S) +'.xlsx', data_only=True)\n",
        "      sh = wb.active\n",
        "\n",
        "      cell_sta_name = sh['A2']\n",
        "      Sta_name = cell_sta_name.value\n",
        "      worksheet_temp.write('A' + str(indx_S + 1), Sta_name)\n",
        "\n",
        "      worksheet_temp.write('B' + str(indx_S + 1), indx_S)\n",
        "\n",
        "      values = []\n",
        "      \n",
        "      Max_T = sh['E'+str(row_index)]\n",
        "      Min_T = sh['F'+str(row_index)]\n",
        "\n",
        "      if Max_T.value and Min_T.value:\n",
        "        values.append(Max_T.value)\n",
        "        values.append(Min_T.value)\n",
        "        \n",
        "        temp = stats.mean(values)\n",
        "        worksheet_temp.write(Lett_arr[jj+1] + str(indx_S + 1), temp)\n",
        "\n",
        "    else:\n",
        "      continue\n",
        "  \n",
        "  row_index += 1\n",
        "\n",
        "workbook_temp.close()"
      ],
      "metadata": {
        "id": "AGkJ-AENBVMI",
        "colab": {
          "base_uri": "https://localhost:8080/"
        },
        "outputId": "9657e639-bc07-4b5a-9600-c988389a048d"
      },
      "execution_count": null,
      "outputs": [
        {
          "output_type": "stream",
          "name": "stderr",
          "text": [
            "Days: 100%|██████████| 30/30 [01:15<00:00,  2.52s/it]\n"
          ]
        }
      ]
    },
    {
      "cell_type": "code",
      "source": [
        "df2 = pd.read_excel('/content/Daily_Average_Temperature.xlsx')\n",
        "df2.dropna(inplace = True)\n",
        "df2.to_excel('Daily_Average_Temperature_after_removing_null_stations.xlsx',  'Sheet1', index= False)"
      ],
      "metadata": {
        "id": "eXZpurA3VLWz"
      },
      "execution_count": null,
      "outputs": []
    }
  ]
}